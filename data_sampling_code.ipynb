{
  "cells": [
    {
      "cell_type": "code",
      "execution_count": 1,
      "id": "1faf85bd",
      "metadata": {
        "id": "1faf85bd"
      },
      "outputs": [],
      "source": [
        "import pandas as pd"
      ]
    },
    {
      "cell_type": "code",
      "source": [
        "from google.colab import drive\n",
        "drive.mount('/content/drive')\n"
      ],
      "metadata": {
        "colab": {
          "base_uri": "https://localhost:8080/"
        },
        "id": "npDdjKXn2YdP",
        "outputId": "590c0545-90d0-48f4-cf26-658ca34e12b0"
      },
      "id": "npDdjKXn2YdP",
      "execution_count": 2,
      "outputs": [
        {
          "output_type": "stream",
          "name": "stdout",
          "text": [
            "Mounted at /content/drive\n"
          ]
        }
      ]
    },
    {
      "cell_type": "code",
      "source": [
        "DIR = '/content/drive/MyDrive/2. study/Security_class/Final_project'"
      ],
      "metadata": {
        "id": "WWnDMxY02iA4"
      },
      "id": "WWnDMxY02iA4",
      "execution_count": 3,
      "outputs": []
    },
    {
      "cell_type": "code",
      "execution_count": 32,
      "id": "fa7286c8",
      "metadata": {
        "id": "fa7286c8"
      },
      "outputs": [],
      "source": [
        "# CSV 파일 경로\n",
        "file_path = DIR+'/dbids_train_labeled.csv'\n",
        "\n",
        "# CSV 파일을 DataFrame으로 읽기\n",
        "df = pd.read_csv(file_path)"
      ]
    },
    {
      "cell_type": "code",
      "source": [
        "def sample_by_class(dataframe, class_column, sample_size):\n",
        "    # 각 클래스별로 랜덤한 개수를 샘플링하여 인덱스를 추출\n",
        "    sampled_indices = dataframe.groupby(class_column, group_keys=False).apply(lambda x: x.sample(min(len(x), sample_size), random_state=42)).index\n",
        "\n",
        "    # 추출된 인덱스로부터 샘플링된 데이터프레임 생성\n",
        "    sampled_df = dataframe.loc[sampled_indices]\n",
        "\n",
        "    return sampled_df\n",
        "\n",
        "# 각 클래스별로 랜덤한 샘플 추출\n",
        "class_num = 30\n",
        "sampled_dataframe = sample_by_class(df, 'class', class_num)\n",
        "\n",
        "# 결과 출력\n",
        "sampled_dataframe['class'].value_counts()"
      ],
      "metadata": {
        "colab": {
          "base_uri": "https://localhost:8080/"
        },
        "id": "q5ebqBc8DIXE",
        "outputId": "665de938-3ca4-43e6-ac46-84e5839ca775"
      },
      "id": "q5ebqBc8DIXE",
      "execution_count": 39,
      "outputs": [
        {
          "output_type": "execute_result",
          "data": {
            "text/plain": [
              "1     30\n",
              "2     30\n",
              "3     30\n",
              "4     30\n",
              "5     30\n",
              "6     30\n",
              "7     30\n",
              "8     30\n",
              "9     30\n",
              "10    30\n",
              "11    30\n",
              "Name: class, dtype: int64"
            ]
          },
          "metadata": {},
          "execution_count": 39
        }
      ]
    },
    {
      "cell_type": "code",
      "source": [
        "# csv 파일 저장\n",
        "sampled_dataframe.to_csv(DIR+'/sampled.csv',index=False)"
      ],
      "metadata": {
        "id": "F1gskPJuEhF6"
      },
      "id": "F1gskPJuEhF6",
      "execution_count": 42,
      "outputs": []
    },
    {
      "cell_type": "code",
      "source": [],
      "metadata": {
        "id": "aCRjndD9E4W6"
      },
      "id": "aCRjndD9E4W6",
      "execution_count": null,
      "outputs": []
    }
  ],
  "metadata": {
    "kernelspec": {
      "display_name": "Python 3 (ipykernel)",
      "language": "python",
      "name": "python3"
    },
    "language_info": {
      "codemirror_mode": {
        "name": "ipython",
        "version": 3
      },
      "file_extension": ".py",
      "mimetype": "text/x-python",
      "name": "python",
      "nbconvert_exporter": "python",
      "pygments_lexer": "ipython3",
      "version": "3.11.6"
    },
    "colab": {
      "provenance": []
    }
  },
  "nbformat": 4,
  "nbformat_minor": 5
}