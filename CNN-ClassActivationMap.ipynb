{
 "cells": [
  {
   "cell_type": "markdown",
   "id": "60aa4116",
   "metadata": {},
   "source": [
    "# Import Library"
   ]
  },
  {
   "cell_type": "code",
   "execution_count": 1,
   "id": "cf6c29cb",
   "metadata": {
    "scrolled": false
   },
   "outputs": [
    {
     "name": "stderr",
     "output_type": "stream",
     "text": [
      "/Users/taeyoungkim/opt/anaconda3/lib/python3.9/site-packages/scipy/__init__.py:155: UserWarning: A NumPy version >=1.18.5 and <1.25.0 is required for this version of SciPy (detected version 1.26.2\n",
      "  warnings.warn(f\"A NumPy version >={np_minversion} and <{np_maxversion}\"\n",
      "2023-12-13 23:44:36.243735: I tensorflow/core/platform/cpu_feature_guard.cc:182] This TensorFlow binary is optimized to use available CPU instructions in performance-critical operations.\n",
      "To enable the following instructions: AVX2 FMA, in other operations, rebuild TensorFlow with the appropriate compiler flags.\n"
     ]
    }
   ],
   "source": [
    "import pandas as pd\n",
    "import numpy as np\n",
    "import itertools\n",
    "\n",
    "from sklearn.model_selection import train_test_split\n",
    "from sklearn.metrics import confusion_matrix\n",
    "\n",
    "from tensorflow.keras.utils import to_categorical\n",
    "import tensorflow as tf\n",
    "tf.compat.v1.disable_eager_execution()\n",
    "\n",
    "from keras.layers import Input\n",
    "from keras.layers import Reshape\n",
    "from keras.layers import Convolution2D\n",
    "from keras.layers import MaxPooling2D\n",
    "from keras.layers import LSTM\n",
    "from keras.layers import Dense\n",
    "from keras.models import Model\n",
    "\n",
    "import matplotlib.pyplot as plt\n",
    "%matplotlib inline"
   ]
  },
  {
   "cell_type": "markdown",
   "id": "93a270bb",
   "metadata": {},
   "source": [
    "# Define Function"
   ]
  },
  {
   "cell_type": "code",
   "execution_count": 2,
   "id": "5a95da4d",
   "metadata": {},
   "outputs": [],
   "source": [
    "# Handcrafted function definition\n",
    "def plot_confusion_matrix(cm, classes, normalize=False, title='Confusion matrix', cmap=plt.cm.Blues):\n",
    "    plt.imshow(cm, interpolation='nearest', cmap=cmap)\n",
    "    plt.title(title)\n",
    "#     plt.colorbar()\n",
    "    tick_marks = np.arange(len(classes))\n",
    "    plt.xticks(tick_marks, classes, rotation=45)\n",
    "    plt.yticks(tick_marks, classes)\n",
    "#     cm = cm.astype('float') / cm.sum(axis=1)[:, np.newaxis]\n",
    "    thresh = cm.max() / 2.\n",
    "    for i, j in itertools.product(range(cm.shape[0]), range(cm.shape[1])):\n",
    "        plt.text(j, i, cm[i, j],\n",
    "                 horizontalalignment=\"center\",\n",
    "                 color=\"white\" if cm[i, j] > thresh else \"black\")\n",
    "    plt.tight_layout()\n",
    "    plt.ylabel('True label')\n",
    "    plt.xlabel('Predicted label')"
   ]
  },
  {
   "cell_type": "code",
   "execution_count": 3,
   "id": "e52a1b78",
   "metadata": {},
   "outputs": [],
   "source": [
    "def confusionMatrix(modelInput, feature, label, classInfo=[\"0\", \"1\", \"2\", \"3\", \"4\", \"5\", \"6\", \"7\", \"8\", \"9\", \"10\"]):\n",
    "    pred = modelInput.predict(feature)\n",
    "    cnf_matrix = confusion_matrix(np.argmax(label, axis=1), np.argmax(pred, axis=1))\n",
    "    np.set_printoptions(precision=2)\n",
    "    plt.figure()\n",
    "    plot_confusion_matrix(cnf_matrix, classes=classInfo, normalize=False, title='')\n",
    "    plt.show()"
   ]
  },
  {
   "cell_type": "markdown",
   "id": "eb53c3fe",
   "metadata": {},
   "source": [
    "# Load Dataset"
   ]
  },
  {
   "cell_type": "code",
   "execution_count": 4,
   "id": "18833e7e",
   "metadata": {},
   "outputs": [],
   "source": [
    "dataset_csv = pd.read_csv('./dbids_train_labeled.csv', header=None, skiprows=1)"
   ]
  },
  {
   "cell_type": "code",
   "execution_count": 5,
   "id": "027a56b0",
   "metadata": {},
   "outputs": [
    {
     "name": "stdout",
     "output_type": "stream",
     "text": [
      "(11000, 278)\n"
     ]
    },
    {
     "data": {
      "text/html": [
       "<div>\n",
       "<style scoped>\n",
       "    .dataframe tbody tr th:only-of-type {\n",
       "        vertical-align: middle;\n",
       "    }\n",
       "\n",
       "    .dataframe tbody tr th {\n",
       "        vertical-align: top;\n",
       "    }\n",
       "\n",
       "    .dataframe thead th {\n",
       "        text-align: right;\n",
       "    }\n",
       "</style>\n",
       "<table border=\"1\" class=\"dataframe\">\n",
       "  <thead>\n",
       "    <tr style=\"text-align: right;\">\n",
       "      <th></th>\n",
       "      <th>0</th>\n",
       "      <th>1</th>\n",
       "      <th>2</th>\n",
       "      <th>3</th>\n",
       "      <th>4</th>\n",
       "      <th>5</th>\n",
       "      <th>6</th>\n",
       "      <th>7</th>\n",
       "      <th>8</th>\n",
       "      <th>9</th>\n",
       "      <th>...</th>\n",
       "      <th>268</th>\n",
       "      <th>269</th>\n",
       "      <th>270</th>\n",
       "      <th>271</th>\n",
       "      <th>272</th>\n",
       "      <th>273</th>\n",
       "      <th>274</th>\n",
       "      <th>275</th>\n",
       "      <th>276</th>\n",
       "      <th>277</th>\n",
       "    </tr>\n",
       "  </thead>\n",
       "  <tbody>\n",
       "    <tr>\n",
       "      <th>0</th>\n",
       "      <td>1</td>\n",
       "      <td>1</td>\n",
       "      <td>424</td>\n",
       "      <td>4</td>\n",
       "      <td>4</td>\n",
       "      <td>1140883472</td>\n",
       "      <td>0</td>\n",
       "      <td>0</td>\n",
       "      <td>0</td>\n",
       "      <td>0</td>\n",
       "      <td>...</td>\n",
       "      <td>0</td>\n",
       "      <td>0</td>\n",
       "      <td>0</td>\n",
       "      <td>0</td>\n",
       "      <td>0</td>\n",
       "      <td>0</td>\n",
       "      <td>5</td>\n",
       "      <td>19</td>\n",
       "      <td>1</td>\n",
       "      <td>5</td>\n",
       "    </tr>\n",
       "    <tr>\n",
       "      <th>1</th>\n",
       "      <td>1</td>\n",
       "      <td>1</td>\n",
       "      <td>284</td>\n",
       "      <td>5</td>\n",
       "      <td>1</td>\n",
       "      <td>67108864</td>\n",
       "      <td>0</td>\n",
       "      <td>0</td>\n",
       "      <td>0</td>\n",
       "      <td>0</td>\n",
       "      <td>...</td>\n",
       "      <td>0</td>\n",
       "      <td>0</td>\n",
       "      <td>0</td>\n",
       "      <td>0</td>\n",
       "      <td>0</td>\n",
       "      <td>0</td>\n",
       "      <td>3</td>\n",
       "      <td>19</td>\n",
       "      <td>1</td>\n",
       "      <td>3</td>\n",
       "    </tr>\n",
       "    <tr>\n",
       "      <th>2</th>\n",
       "      <td>1</td>\n",
       "      <td>1</td>\n",
       "      <td>395</td>\n",
       "      <td>6</td>\n",
       "      <td>4</td>\n",
       "      <td>1073777664</td>\n",
       "      <td>0</td>\n",
       "      <td>0</td>\n",
       "      <td>0</td>\n",
       "      <td>0</td>\n",
       "      <td>...</td>\n",
       "      <td>0</td>\n",
       "      <td>0</td>\n",
       "      <td>0</td>\n",
       "      <td>0</td>\n",
       "      <td>0</td>\n",
       "      <td>0</td>\n",
       "      <td>5</td>\n",
       "      <td>0</td>\n",
       "      <td>0</td>\n",
       "      <td>6</td>\n",
       "    </tr>\n",
       "    <tr>\n",
       "      <th>3</th>\n",
       "      <td>1</td>\n",
       "      <td>1</td>\n",
       "      <td>316</td>\n",
       "      <td>4</td>\n",
       "      <td>2</td>\n",
       "      <td>2064</td>\n",
       "      <td>0</td>\n",
       "      <td>0</td>\n",
       "      <td>0</td>\n",
       "      <td>0</td>\n",
       "      <td>...</td>\n",
       "      <td>0</td>\n",
       "      <td>0</td>\n",
       "      <td>0</td>\n",
       "      <td>0</td>\n",
       "      <td>0</td>\n",
       "      <td>0</td>\n",
       "      <td>3</td>\n",
       "      <td>0</td>\n",
       "      <td>0</td>\n",
       "      <td>4</td>\n",
       "    </tr>\n",
       "    <tr>\n",
       "      <th>4</th>\n",
       "      <td>1</td>\n",
       "      <td>1</td>\n",
       "      <td>423</td>\n",
       "      <td>4</td>\n",
       "      <td>3</td>\n",
       "      <td>1073743888</td>\n",
       "      <td>0</td>\n",
       "      <td>0</td>\n",
       "      <td>0</td>\n",
       "      <td>0</td>\n",
       "      <td>...</td>\n",
       "      <td>0</td>\n",
       "      <td>0</td>\n",
       "      <td>0</td>\n",
       "      <td>0</td>\n",
       "      <td>0</td>\n",
       "      <td>0</td>\n",
       "      <td>5</td>\n",
       "      <td>57</td>\n",
       "      <td>3</td>\n",
       "      <td>3</td>\n",
       "    </tr>\n",
       "    <tr>\n",
       "      <th>...</th>\n",
       "      <td>...</td>\n",
       "      <td>...</td>\n",
       "      <td>...</td>\n",
       "      <td>...</td>\n",
       "      <td>...</td>\n",
       "      <td>...</td>\n",
       "      <td>...</td>\n",
       "      <td>...</td>\n",
       "      <td>...</td>\n",
       "      <td>...</td>\n",
       "      <td>...</td>\n",
       "      <td>...</td>\n",
       "      <td>...</td>\n",
       "      <td>...</td>\n",
       "      <td>...</td>\n",
       "      <td>...</td>\n",
       "      <td>...</td>\n",
       "      <td>...</td>\n",
       "      <td>...</td>\n",
       "      <td>...</td>\n",
       "      <td>...</td>\n",
       "    </tr>\n",
       "    <tr>\n",
       "      <th>10995</th>\n",
       "      <td>11</td>\n",
       "      <td>2</td>\n",
       "      <td>105</td>\n",
       "      <td>4</td>\n",
       "      <td>0</td>\n",
       "      <td>0</td>\n",
       "      <td>0</td>\n",
       "      <td>0</td>\n",
       "      <td>0</td>\n",
       "      <td>0</td>\n",
       "      <td>...</td>\n",
       "      <td>0</td>\n",
       "      <td>0</td>\n",
       "      <td>0</td>\n",
       "      <td>0</td>\n",
       "      <td>0</td>\n",
       "      <td>0</td>\n",
       "      <td>0</td>\n",
       "      <td>38</td>\n",
       "      <td>2</td>\n",
       "      <td>0</td>\n",
       "    </tr>\n",
       "    <tr>\n",
       "      <th>10996</th>\n",
       "      <td>11</td>\n",
       "      <td>3</td>\n",
       "      <td>110</td>\n",
       "      <td>2</td>\n",
       "      <td>1</td>\n",
       "      <td>512</td>\n",
       "      <td>0</td>\n",
       "      <td>0</td>\n",
       "      <td>0</td>\n",
       "      <td>0</td>\n",
       "      <td>...</td>\n",
       "      <td>0</td>\n",
       "      <td>0</td>\n",
       "      <td>0</td>\n",
       "      <td>0</td>\n",
       "      <td>0</td>\n",
       "      <td>0</td>\n",
       "      <td>0</td>\n",
       "      <td>19</td>\n",
       "      <td>1</td>\n",
       "      <td>2</td>\n",
       "    </tr>\n",
       "    <tr>\n",
       "      <th>10997</th>\n",
       "      <td>11</td>\n",
       "      <td>3</td>\n",
       "      <td>88</td>\n",
       "      <td>2</td>\n",
       "      <td>1</td>\n",
       "      <td>8</td>\n",
       "      <td>0</td>\n",
       "      <td>0</td>\n",
       "      <td>0</td>\n",
       "      <td>0</td>\n",
       "      <td>...</td>\n",
       "      <td>0</td>\n",
       "      <td>0</td>\n",
       "      <td>0</td>\n",
       "      <td>0</td>\n",
       "      <td>0</td>\n",
       "      <td>0</td>\n",
       "      <td>1</td>\n",
       "      <td>0</td>\n",
       "      <td>0</td>\n",
       "      <td>4</td>\n",
       "    </tr>\n",
       "    <tr>\n",
       "      <th>10998</th>\n",
       "      <td>11</td>\n",
       "      <td>4</td>\n",
       "      <td>80</td>\n",
       "      <td>0</td>\n",
       "      <td>1</td>\n",
       "      <td>1024</td>\n",
       "      <td>0</td>\n",
       "      <td>0</td>\n",
       "      <td>0</td>\n",
       "      <td>0</td>\n",
       "      <td>...</td>\n",
       "      <td>0</td>\n",
       "      <td>0</td>\n",
       "      <td>0</td>\n",
       "      <td>0</td>\n",
       "      <td>0</td>\n",
       "      <td>0</td>\n",
       "      <td>1</td>\n",
       "      <td>19</td>\n",
       "      <td>1</td>\n",
       "      <td>1</td>\n",
       "    </tr>\n",
       "    <tr>\n",
       "      <th>10999</th>\n",
       "      <td>11</td>\n",
       "      <td>3</td>\n",
       "      <td>96</td>\n",
       "      <td>2</td>\n",
       "      <td>1</td>\n",
       "      <td>8388608</td>\n",
       "      <td>0</td>\n",
       "      <td>0</td>\n",
       "      <td>0</td>\n",
       "      <td>0</td>\n",
       "      <td>...</td>\n",
       "      <td>0</td>\n",
       "      <td>0</td>\n",
       "      <td>0</td>\n",
       "      <td>0</td>\n",
       "      <td>0</td>\n",
       "      <td>0</td>\n",
       "      <td>0</td>\n",
       "      <td>19</td>\n",
       "      <td>1</td>\n",
       "      <td>2</td>\n",
       "    </tr>\n",
       "  </tbody>\n",
       "</table>\n",
       "<p>11000 rows × 278 columns</p>\n",
       "</div>"
      ],
      "text/plain": [
       "       0    1    2    3    4           5    6    7    8    9    ...  268  269  \\\n",
       "0        1    1  424    4    4  1140883472    0    0    0    0  ...    0    0   \n",
       "1        1    1  284    5    1    67108864    0    0    0    0  ...    0    0   \n",
       "2        1    1  395    6    4  1073777664    0    0    0    0  ...    0    0   \n",
       "3        1    1  316    4    2        2064    0    0    0    0  ...    0    0   \n",
       "4        1    1  423    4    3  1073743888    0    0    0    0  ...    0    0   \n",
       "...    ...  ...  ...  ...  ...         ...  ...  ...  ...  ...  ...  ...  ...   \n",
       "10995   11    2  105    4    0           0    0    0    0    0  ...    0    0   \n",
       "10996   11    3  110    2    1         512    0    0    0    0  ...    0    0   \n",
       "10997   11    3   88    2    1           8    0    0    0    0  ...    0    0   \n",
       "10998   11    4   80    0    1        1024    0    0    0    0  ...    0    0   \n",
       "10999   11    3   96    2    1     8388608    0    0    0    0  ...    0    0   \n",
       "\n",
       "       270  271  272  273  274  275  276  277  \n",
       "0        0    0    0    0    5   19    1    5  \n",
       "1        0    0    0    0    3   19    1    3  \n",
       "2        0    0    0    0    5    0    0    6  \n",
       "3        0    0    0    0    3    0    0    4  \n",
       "4        0    0    0    0    5   57    3    3  \n",
       "...    ...  ...  ...  ...  ...  ...  ...  ...  \n",
       "10995    0    0    0    0    0   38    2    0  \n",
       "10996    0    0    0    0    0   19    1    2  \n",
       "10997    0    0    0    0    1    0    0    4  \n",
       "10998    0    0    0    0    1   19    1    1  \n",
       "10999    0    0    0    0    0   19    1    2  \n",
       "\n",
       "[11000 rows x 278 columns]"
      ]
     },
     "execution_count": 5,
     "metadata": {},
     "output_type": "execute_result"
    }
   ],
   "source": [
    "print(dataset_csv.shape)\n",
    "dataset_csv"
   ]
  },
  {
   "cell_type": "code",
   "execution_count": 6,
   "id": "6b255b1a",
   "metadata": {
    "scrolled": true
   },
   "outputs": [
    {
     "name": "stdout",
     "output_type": "stream",
     "text": [
      "(11000, 278)\n"
     ]
    }
   ],
   "source": [
    "#Convert Pandas to Numpy\n",
    "dataset = np.zeros((dataset_csv.shape[0], dataset_csv.shape[1])) \n",
    "\n",
    "for i in range(dataset_csv.shape[0]):\n",
    "    dataset[i] = dataset_csv.iloc[i, 0:]\n",
    "\n",
    "print(dataset.shape)\n",
    "#Random Shuffle\n",
    "np.random.shuffle(dataset)"
   ]
  },
  {
   "cell_type": "code",
   "execution_count": 7,
   "id": "1ab7ab54",
   "metadata": {},
   "outputs": [],
   "source": [
    "dataset_temp = dataset[:, 0:273]"
   ]
  },
  {
   "cell_type": "code",
   "execution_count": 8,
   "id": "3c209d71",
   "metadata": {},
   "outputs": [
    {
     "name": "stdout",
     "output_type": "stream",
     "text": [
      "(11000, 273)\n"
     ]
    }
   ],
   "source": [
    "print(dataset_temp.shape)"
   ]
  },
  {
   "cell_type": "markdown",
   "id": "61a64d0a",
   "metadata": {},
   "source": [
    "# Split Train & Test Set"
   ]
  },
  {
   "cell_type": "code",
   "execution_count": 9,
   "id": "255c13d4",
   "metadata": {
    "scrolled": true
   },
   "outputs": [
    {
     "name": "stdout",
     "output_type": "stream",
     "text": [
      "(11000, 272)\n",
      "(11000, 1)\n"
     ]
    }
   ],
   "source": [
    "data_value = np.zeros((dataset_temp.shape[0], dataset_temp.shape[1]-1)) \n",
    "data_label = np.zeros((dataset_temp.shape[0], 1)) # Enpty array\n",
    "print(data_value.shape)\n",
    "print(data_label.shape)\n",
    "\n",
    "for i in range(dataset_temp.shape[0]):\n",
    "    data_value[i]= dataset_temp[i][1::] # Pixel value  \n",
    "    data_label[i]= dataset_temp[i][0] # Data label"
   ]
  },
  {
   "cell_type": "code",
   "execution_count": 10,
   "id": "a9dc7527",
   "metadata": {},
   "outputs": [],
   "source": [
    "# 데이터를 9:1 비율로 훈련 데이터와 테스트 데이터로 분할\n",
    "# 위 코드에서 이미 Shuffle 완료함\n",
    "X_train, X_test = train_test_split(data_value, test_size=0.2, shuffle=False)\n",
    "Y_train, Y_test = train_test_split(data_label, test_size=0.2, shuffle=False)"
   ]
  },
  {
   "cell_type": "code",
   "execution_count": 11,
   "id": "02587e6c",
   "metadata": {},
   "outputs": [
    {
     "name": "stdout",
     "output_type": "stream",
     "text": [
      "(8800, 272) (8800, 1)\n",
      "(2200, 272) (2200, 1)\n"
     ]
    }
   ],
   "source": [
    "print(X_train.shape,Y_train.shape)\n",
    "print(X_test.shape,Y_test.shape)"
   ]
  },
  {
   "cell_type": "markdown",
   "id": "b8ff7f22",
   "metadata": {},
   "source": [
    "# One-Hot Encoding"
   ]
  },
  {
   "cell_type": "code",
   "execution_count": 12,
   "id": "5a0c67b3",
   "metadata": {
    "scrolled": true
   },
   "outputs": [
    {
     "name": "stdout",
     "output_type": "stream",
     "text": [
      "(8800, 11)\n",
      "(2200, 11)\n"
     ]
    }
   ],
   "source": [
    "Y_train -= 1\n",
    "Y_test -= 1\n",
    "\n",
    "Y_train, Y_test = to_categorical(Y_train), to_categorical(Y_test)\n",
    "print(Y_train.shape)\n",
    "print(Y_test.shape)"
   ]
  },
  {
   "cell_type": "code",
   "execution_count": 13,
   "id": "b263ecf7",
   "metadata": {},
   "outputs": [],
   "source": [
    "Y_train = np.reshape(Y_train, (Y_train.shape[0], Y_train.shape[1]))\n",
    "Y_test = np.reshape(Y_test, (Y_test.shape[0], Y_test.shape[1]))"
   ]
  },
  {
   "cell_type": "code",
   "execution_count": 14,
   "id": "62460001",
   "metadata": {
    "scrolled": true
   },
   "outputs": [
    {
     "name": "stdout",
     "output_type": "stream",
     "text": [
      "(8800, 11)\n",
      "(2200, 11)\n"
     ]
    }
   ],
   "source": [
    "print(Y_train.shape)\n",
    "print(Y_test.shape)"
   ]
  },
  {
   "cell_type": "code",
   "execution_count": 15,
   "id": "992a7e33",
   "metadata": {},
   "outputs": [
    {
     "data": {
      "text/plain": [
       "(8800, 272)"
      ]
     },
     "execution_count": 15,
     "metadata": {},
     "output_type": "execute_result"
    }
   ],
   "source": [
    "X_train.shape"
   ]
  },
  {
   "cell_type": "code",
   "execution_count": 16,
   "id": "a3ffafb3",
   "metadata": {},
   "outputs": [
    {
     "name": "stdout",
     "output_type": "stream",
     "text": [
      "(8800, 16, 17)\n",
      "(2200, 16, 17)\n"
     ]
    }
   ],
   "source": [
    "X_train_2d = np.reshape(X_train, (X_train.shape[0], X_train.shape[1]//17, 17))\n",
    "X_test_2d = np.reshape(X_test, (X_test.shape[0], X_test.shape[1]//17, 17))\n",
    "print(X_train_2d.shape)\n",
    "print(X_test_2d.shape)"
   ]
  },
  {
   "cell_type": "markdown",
   "id": "230bc182",
   "metadata": {},
   "source": [
    "# Convolutional Neural Network"
   ]
  },
  {
   "cell_type": "code",
   "execution_count": 17,
   "id": "a08aadfd",
   "metadata": {},
   "outputs": [
    {
     "name": "stdout",
     "output_type": "stream",
     "text": [
      "Model: \"model\"\n",
      "_________________________________________________________________\n",
      " Layer (type)                Output Shape              Param #   \n",
      "=================================================================\n",
      " input_1 (InputLayer)        [(None, 16, 17)]          0         \n",
      "                                                                 \n",
      " reshape (Reshape)           (None, 16, 17, 1)         0         \n",
      "                                                                 \n",
      " conv2d (Conv2D)             (None, 16, 17, 128)       640       \n",
      "                                                                 \n",
      " max_pooling2d (MaxPooling2  (None, 16, 17, 128)       0         \n",
      " D)                                                              \n",
      "                                                                 \n",
      " conv2d_1 (Conv2D)           (None, 16, 17, 128)       65664     \n",
      "                                                                 \n",
      " max_pooling2d_1 (MaxPoolin  (None, 16, 17, 128)       0         \n",
      " g2D)                                                            \n",
      "                                                                 \n",
      " reshape_1 (Reshape)         (None, 1, 34816)          0         \n",
      "                                                                 \n",
      " lstm (LSTM)                 (None, 128)               17891840  \n",
      "                                                                 \n",
      " dense (Dense)               (None, 32)                4128      \n",
      "                                                                 \n",
      " dense_1 (Dense)             (None, 11)                363       \n",
      "                                                                 \n",
      "=================================================================\n",
      "Total params: 17962635 (68.52 MB)\n",
      "Trainable params: 17962635 (68.52 MB)\n",
      "Non-trainable params: 0 (0.00 Byte)\n",
      "_________________________________________________________________\n"
     ]
    }
   ],
   "source": [
    "cl_input = Input(shape=(X_train_2d.shape[1:]))\n",
    "H = Reshape((X_train_2d.shape[1], X_train_2d.shape[2], 1))(cl_input)\n",
    "H = Convolution2D(filters=128, kernel_size=(2, 2), padding='same', activation='tanh')(H)\n",
    "H = MaxPooling2D(pool_size=(2,2), strides = 1, padding='same')(H) \n",
    "H = Convolution2D(filters=128, kernel_size=(2, 2), padding='same', activation='tanh')(H)\n",
    "H = MaxPooling2D(pool_size=(2,2), strides = 1, padding='same')(H) \n",
    "H = Reshape((1, (int)(H.shape[1]*H.shape[2])*128))(H)\n",
    "H = LSTM(128, activation='tanh', recurrent_activation='hard_sigmoid', use_bias=True, kernel_initializer='glorot_uniform', recurrent_initializer='orthogonal', bias_initializer='zeros', unit_forget_bias=True, kernel_regularizer=None, recurrent_regularizer=None, bias_regularizer=None, activity_regularizer=None, kernel_constraint=None, recurrent_constraint=None, bias_constraint=None, dropout=0.0, recurrent_dropout=0.0, return_sequences=False)(H)\n",
    "H = Dense(32)(H)\n",
    "cl_output = Dense(11, activation='softmax')(H)\n",
    "model_clstm = Model(cl_input, cl_output)\n",
    "model_clstm.summary()"
   ]
  },
  {
   "cell_type": "code",
   "execution_count": 18,
   "id": "101fdcd3",
   "metadata": {},
   "outputs": [
    {
     "name": "stdout",
     "output_type": "stream",
     "text": [
      "Train on 8800 samples, validate on 2200 samples\n"
     ]
    },
    {
     "name": "stderr",
     "output_type": "stream",
     "text": [
      "2023-12-13 23:44:41.978872: I tensorflow/compiler/mlir/mlir_graph_optimization_pass.cc:388] MLIR V1 optimization pass is not enabled\n",
      "2023-12-13 23:44:42.042654: W tensorflow/c/c_api.cc:305] Operation '{name:'training/Adam/dense/bias/v/Assign' id:875 op device:{requested: '', assigned: ''} def:{{{node training/Adam/dense/bias/v/Assign}} = AssignVariableOp[_has_manual_control_dependencies=true, dtype=DT_FLOAT, validate_shape=false](training/Adam/dense/bias/v, training/Adam/dense/bias/v/Initializer/zeros)}}' was changed by setting attribute after it was run by a session. This mutation will have no effect, and will trigger an error in the future. Either don't modify nodes after running them or create a new session.\n"
     ]
    },
    {
     "name": "stdout",
     "output_type": "stream",
     "text": [
      "Epoch 1/30\n"
     ]
    },
    {
     "name": "stderr",
     "output_type": "stream",
     "text": [
      "/Users/taeyoungkim/opt/anaconda3/lib/python3.9/site-packages/keras/src/engine/training_v1.py:2335: UserWarning: `Model.state_updates` will be removed in a future version. This property should not be used in TensorFlow 2.0, as `updates` are applied automatically.\n",
      "  updates = self.state_updates\n",
      "2023-12-13 23:44:53.502429: W tensorflow/c/c_api.cc:305] Operation '{name:'loss/mul' id:554 op device:{requested: '', assigned: ''} def:{{{node loss/mul}} = Mul[T=DT_FLOAT, _has_manual_control_dependencies=true](loss/mul/x, loss/dense_1_loss/value)}}' was changed by setting attribute after it was run by a session. This mutation will have no effect, and will trigger an error in the future. Either don't modify nodes after running them or create a new session.\n"
     ]
    },
    {
     "name": "stdout",
     "output_type": "stream",
     "text": [
      "8800/8800 - 12s - loss: 0.9564 - acc: 0.6748 - val_loss: 0.4559 - val_acc: 0.8305 - 12s/epoch - 1ms/sample\n",
      "Epoch 2/30\n",
      "8800/8800 - 12s - loss: 0.3627 - acc: 0.8637 - val_loss: 0.3325 - val_acc: 0.8645 - 12s/epoch - 1ms/sample\n",
      "Epoch 3/30\n",
      "8800/8800 - 12s - loss: 0.2849 - acc: 0.8867 - val_loss: 0.2998 - val_acc: 0.8773 - 12s/epoch - 1ms/sample\n",
      "Epoch 4/30\n",
      "8800/8800 - 13s - loss: 0.2610 - acc: 0.8924 - val_loss: 0.2837 - val_acc: 0.8732 - 13s/epoch - 2ms/sample\n",
      "Epoch 5/30\n",
      "8800/8800 - 14s - loss: 0.2439 - acc: 0.8956 - val_loss: 0.2672 - val_acc: 0.8805 - 14s/epoch - 2ms/sample\n",
      "Epoch 6/30\n",
      "8800/8800 - 15s - loss: 0.2228 - acc: 0.9061 - val_loss: 0.2562 - val_acc: 0.8823 - 15s/epoch - 2ms/sample\n",
      "Epoch 7/30\n",
      "8800/8800 - 14s - loss: 0.2234 - acc: 0.9082 - val_loss: 0.2610 - val_acc: 0.8900 - 14s/epoch - 2ms/sample\n",
      "Epoch 8/30\n",
      "8800/8800 - 14s - loss: 0.2139 - acc: 0.9116 - val_loss: 0.2365 - val_acc: 0.8868 - 14s/epoch - 2ms/sample\n",
      "Epoch 9/30\n",
      "8800/8800 - 13s - loss: 0.1956 - acc: 0.9199 - val_loss: 0.2397 - val_acc: 0.8955 - 13s/epoch - 2ms/sample\n",
      "Epoch 10/30\n",
      "8800/8800 - 13s - loss: 0.1869 - acc: 0.9240 - val_loss: 0.2400 - val_acc: 0.9005 - 13s/epoch - 2ms/sample\n",
      "Epoch 11/30\n",
      "8800/8800 - 13s - loss: 0.1901 - acc: 0.9195 - val_loss: 0.2250 - val_acc: 0.9027 - 13s/epoch - 2ms/sample\n",
      "Epoch 12/30\n",
      "8800/8800 - 14s - loss: 0.1801 - acc: 0.9234 - val_loss: 0.2265 - val_acc: 0.9082 - 14s/epoch - 2ms/sample\n",
      "Epoch 13/30\n",
      "8800/8800 - 14s - loss: 0.1698 - acc: 0.9306 - val_loss: 0.2269 - val_acc: 0.9027 - 14s/epoch - 2ms/sample\n",
      "Epoch 14/30\n",
      "8800/8800 - 14s - loss: 0.1735 - acc: 0.9253 - val_loss: 0.2541 - val_acc: 0.8945 - 14s/epoch - 2ms/sample\n",
      "Epoch 15/30\n",
      "8800/8800 - 14s - loss: 0.1835 - acc: 0.9224 - val_loss: 0.2234 - val_acc: 0.9045 - 14s/epoch - 2ms/sample\n",
      "Epoch 16/30\n",
      "8800/8800 - 14s - loss: 0.1681 - acc: 0.9306 - val_loss: 0.2211 - val_acc: 0.9055 - 14s/epoch - 2ms/sample\n",
      "Epoch 17/30\n",
      "8800/8800 - 14s - loss: 0.1590 - acc: 0.9353 - val_loss: 0.2287 - val_acc: 0.8923 - 14s/epoch - 2ms/sample\n",
      "Epoch 18/30\n",
      "8800/8800 - 14s - loss: 0.1619 - acc: 0.9272 - val_loss: 0.2075 - val_acc: 0.9068 - 14s/epoch - 2ms/sample\n",
      "Epoch 19/30\n",
      "8800/8800 - 14s - loss: 0.1547 - acc: 0.9339 - val_loss: 0.2102 - val_acc: 0.9009 - 14s/epoch - 2ms/sample\n",
      "Epoch 20/30\n",
      "8800/8800 - 14s - loss: 0.1573 - acc: 0.9325 - val_loss: 0.2154 - val_acc: 0.9009 - 14s/epoch - 2ms/sample\n",
      "Epoch 21/30\n",
      "8800/8800 - 14s - loss: 0.1499 - acc: 0.9358 - val_loss: 0.2028 - val_acc: 0.9109 - 14s/epoch - 2ms/sample\n",
      "Epoch 22/30\n",
      "8800/8800 - 13s - loss: 0.1397 - acc: 0.9402 - val_loss: 0.1959 - val_acc: 0.9086 - 13s/epoch - 2ms/sample\n",
      "Epoch 23/30\n",
      "8800/8800 - 14s - loss: 0.1412 - acc: 0.9386 - val_loss: 0.2122 - val_acc: 0.9086 - 14s/epoch - 2ms/sample\n",
      "Epoch 24/30\n",
      "8800/8800 - 14s - loss: 0.1358 - acc: 0.9413 - val_loss: 0.2056 - val_acc: 0.9095 - 14s/epoch - 2ms/sample\n",
      "Epoch 25/30\n",
      "8800/8800 - 14s - loss: 0.1320 - acc: 0.9431 - val_loss: 0.2025 - val_acc: 0.9082 - 14s/epoch - 2ms/sample\n",
      "Epoch 26/30\n",
      "8800/8800 - 14s - loss: 0.1334 - acc: 0.9434 - val_loss: 0.2308 - val_acc: 0.9045 - 14s/epoch - 2ms/sample\n",
      "Epoch 27/30\n",
      "8800/8800 - 15s - loss: 0.1507 - acc: 0.9335 - val_loss: 0.2155 - val_acc: 0.8973 - 15s/epoch - 2ms/sample\n",
      "Epoch 28/30\n",
      "8800/8800 - 14s - loss: 0.1395 - acc: 0.9382 - val_loss: 0.2046 - val_acc: 0.9055 - 14s/epoch - 2ms/sample\n",
      "Epoch 29/30\n",
      "8800/8800 - 14s - loss: 0.1348 - acc: 0.9385 - val_loss: 0.2142 - val_acc: 0.9123 - 14s/epoch - 2ms/sample\n",
      "Epoch 30/30\n",
      "8800/8800 - 13s - loss: 0.1297 - acc: 0.9430 - val_loss: 0.1994 - val_acc: 0.9145 - 13s/epoch - 2ms/sample\n"
     ]
    }
   ],
   "source": [
    "model_clstm.compile(loss='categorical_crossentropy', optimizer='adam', metrics=['acc'])\n",
    "history_model_clstm = model_clstm.fit(X_train_2d, Y_train, validation_data=(X_test_2d, Y_test), epochs=30, batch_size=512, verbose=2, shuffle=True)"
   ]
  },
  {
   "cell_type": "markdown",
   "id": "8de47c1f",
   "metadata": {},
   "source": [
    "# Model Evaluation"
   ]
  },
  {
   "cell_type": "code",
   "execution_count": 19,
   "id": "235be7b4",
   "metadata": {},
   "outputs": [
    {
     "data": {
      "image/png": "[encoded data removed]",
      "text/plain": [
       "<Figure size 640x480 with 1 Axes>"
      ]
     },
     "metadata": {},
     "output_type": "display_data"
    },
    {
     "data": {
      "image/png": "[encoded data removed]",
      "text/plain": [
       "<Figure size 640x480 with 1 Axes>"
      ]
     },
     "metadata": {},
     "output_type": "display_data"
    }
   ],
   "source": [
    "# Model evaluate\n",
    "history = model_clstm.history\n",
    "plt.plot(history.history['loss'])\n",
    "plt.plot(history.history['val_loss'])\n",
    "plt.title('Categorical crossentropy')\n",
    "plt.ylabel('entropy')\n",
    "plt.xlabel('epoch')\n",
    "plt.legend(['train', 'test'], loc='upper right')\n",
    "plt.show()\n",
    "plt.plot(history.history['acc'])\n",
    "plt.plot(history.history['val_acc'])\n",
    "plt.title('Accuracy')\n",
    "plt.ylabel('accuracy')\n",
    "plt.xlabel('epoch')\n",
    "plt.legend(['train', 'test'], loc='upper right')\n",
    "plt.show()"
   ]
  },
  {
   "cell_type": "code",
   "execution_count": 20,
   "id": "f56eea76",
   "metadata": {},
   "outputs": [
    {
     "name": "stderr",
     "output_type": "stream",
     "text": [
      "/Users/taeyoungkim/opt/anaconda3/lib/python3.9/site-packages/keras/src/engine/training_v1.py:2359: UserWarning: `Model.state_updates` will be removed in a future version. This property should not be used in TensorFlow 2.0, as `updates` are applied automatically.\n",
      "  updates=self.state_updates,\n",
      "2023-12-13 23:51:33.301341: W tensorflow/c/c_api.cc:305] Operation '{name:'dense_1/Softmax' id:478 op device:{requested: '', assigned: ''} def:{{{node dense_1/Softmax}} = Softmax[T=DT_FLOAT, _has_manual_control_dependencies=true](dense_1/BiasAdd)}}' was changed by setting attribute after it was run by a session. This mutation will have no effect, and will trigger an error in the future. Either don't modify nodes after running them or create a new session.\n"
     ]
    },
    {
     "data": {
      "image/png": "[encoded data removed]",
      "text/plain": [
       "<Figure size 640x480 with 1 Axes>"
      ]
     },
     "metadata": {},
     "output_type": "display_data"
    }
   ],
   "source": [
    "# Confusion matrix\n",
    "label = ['1', '2', '3', '4', '5', '6', '7', '8', '9', '10', '11']\n",
    "confusionMatrix(model_clstm, X_test_2d, Y_test, classInfo=label)"
   ]
  },
  {
   "cell_type": "markdown",
   "id": "c4928aa7",
   "metadata": {},
   "source": [
    "# Class Activation Map"
   ]
  },
  {
   "cell_type": "code",
   "execution_count": 21,
   "id": "04bdd29b",
   "metadata": {},
   "outputs": [
    {
     "name": "stdout",
     "output_type": "stream",
     "text": [
      "(16, 17)\n"
     ]
    }
   ],
   "source": [
    "print(X_test_2d[0].shape)"
   ]
  },
  {
   "cell_type": "code",
   "execution_count": 22,
   "id": "773c8f59",
   "metadata": {},
   "outputs": [],
   "source": [
    "pred = model_clstm.predict(X_test_2d)\n",
    "X_test_temp = np.expand_dims(X_test_2d[0], axis=0)"
   ]
  },
  {
   "cell_type": "code",
   "execution_count": 23,
   "id": "21b85909",
   "metadata": {},
   "outputs": [
    {
     "name": "stdout",
     "output_type": "stream",
     "text": [
      "(1, 16, 17)\n",
      "1\n"
     ]
    }
   ],
   "source": [
    "print(X_test_temp.shape)\n",
    "argmax = np.argmax(pred[0])\n",
    "print(argmax)"
   ]
  },
  {
   "cell_type": "code",
   "execution_count": 24,
   "id": "2adf2741",
   "metadata": {},
   "outputs": [
    {
     "name": "stdout",
     "output_type": "stream",
     "text": [
      "Tensor(\"strided_slice:0\", shape=(None,), dtype=float32)\n"
     ]
    }
   ],
   "source": [
    "output = model_clstm.output[:, argmax]\n",
    "print(output)"
   ]
  },
  {
   "cell_type": "code",
   "execution_count": 25,
   "id": "4bf5b326",
   "metadata": {},
   "outputs": [
    {
     "name": "stdout",
     "output_type": "stream",
     "text": [
      "Model: \"model\"\n",
      "_________________________________________________________________\n",
      " Layer (type)                Output Shape              Param #   \n",
      "=================================================================\n",
      " input_1 (InputLayer)        [(None, 16, 17)]          0         \n",
      "                                                                 \n",
      " reshape (Reshape)           (None, 16, 17, 1)         0         \n",
      "                                                                 \n",
      " conv2d (Conv2D)             (None, 16, 17, 128)       640       \n",
      "                                                                 \n",
      " max_pooling2d (MaxPooling2  (None, 16, 17, 128)       0         \n",
      " D)                                                              \n",
      "                                                                 \n",
      " conv2d_1 (Conv2D)           (None, 16, 17, 128)       65664     \n",
      "                                                                 \n",
      " max_pooling2d_1 (MaxPoolin  (None, 16, 17, 128)       0         \n",
      " g2D)                                                            \n",
      "                                                                 \n",
      " reshape_1 (Reshape)         (None, 1, 34816)          0         \n",
      "                                                                 \n",
      " lstm (LSTM)                 (None, 128)               17891840  \n",
      "                                                                 \n",
      " dense (Dense)               (None, 32)                4128      \n",
      "                                                                 \n",
      " dense_1 (Dense)             (None, 11)                363       \n",
      "                                                                 \n",
      "=================================================================\n",
      "Total params: 17962635 (68.52 MB)\n",
      "Trainable params: 17962635 (68.52 MB)\n",
      "Non-trainable params: 0 (0.00 Byte)\n",
      "_________________________________________________________________\n"
     ]
    }
   ],
   "source": [
    "model_clstm.summary()"
   ]
  },
  {
   "cell_type": "code",
   "execution_count": 27,
   "id": "ee107f05",
   "metadata": {},
   "outputs": [
    {
     "name": "stdout",
     "output_type": "stream",
     "text": [
      "<keras.src.layers.convolutional.conv2d.Conv2D object at 0x7ff2025e4f40>\n"
     ]
    }
   ],
   "source": [
    "last_conv_layer = model_clstm.get_layer('conv2d_1')\n",
    "print(last_conv_layer)"
   ]
  },
  {
   "cell_type": "code",
   "execution_count": 29,
   "id": "80baf463",
   "metadata": {},
   "outputs": [
    {
     "name": "stdout",
     "output_type": "stream",
     "text": [
      "Tensor(\"gradients/max_pooling2d_1/MaxPool_grad/MaxPoolGrad:0\", shape=(None, 16, 17, 128), dtype=float32)\n"
     ]
    }
   ],
   "source": [
    "from keras import backend as K\n",
    "\n",
    "grads = K.gradients(output, last_conv_layer.output)[0]\n",
    "print(grads)"
   ]
  },
  {
   "cell_type": "code",
   "execution_count": 30,
   "id": "ecb830eb",
   "metadata": {},
   "outputs": [
    {
     "name": "stdout",
     "output_type": "stream",
     "text": [
      "Tensor(\"Mean:0\", shape=(128,), dtype=float32)\n"
     ]
    }
   ],
   "source": [
    "pooled_grads = K.mean(grads, axis=(0, 1, 2)) # hold\n",
    "print(pooled_grads)"
   ]
  },
  {
   "cell_type": "code",
   "execution_count": 31,
   "id": "a741a38c",
   "metadata": {},
   "outputs": [
    {
     "name": "stdout",
     "output_type": "stream",
     "text": [
      "<keras.src.backend.GraphExecutionFunction object at 0x7ff1b1ab3e20>\n"
     ]
    }
   ],
   "source": [
    "iterate = K.function([model_clstm.input], [pooled_grads, last_conv_layer.output[0]])\n",
    "print(iterate)"
   ]
  },
  {
   "cell_type": "code",
   "execution_count": 32,
   "id": "95259ba4",
   "metadata": {},
   "outputs": [
    {
     "name": "stderr",
     "output_type": "stream",
     "text": [
      "2023-12-13 23:53:15.389009: W tensorflow/c/c_api.cc:305] Operation '{name:'lstm/while' id:356 op device:{requested: '', assigned: ''} def:{{{node lstm/while}} = While[T=[DT_INT32, DT_INT32, DT_INT32, DT_VARIANT, DT_FLOAT, ..., DT_VARIANT, DT_VARIANT, DT_VARIANT, DT_VARIANT, DT_VARIANT]{attr_hash=17230797202439123774}, _lower_using_switch_merge=true, _num_original_outputs=68, _read_only_resource_inputs=[8, 9, 10], body=lstm_while_body_190_rewritten[], cond=lstm_while_cond_189_rewritten[], output_shapes=[[], [], [], [], [?,128], ..., [], [], [], [], []]{attr_hash=1907306342090684004}, parallel_iterations=32](lstm/while/loop_counter, lstm/while/maximum_iterations, lstm/time, lstm/TensorArrayV2_1, lstm/zeros, lstm/zeros_1, lstm/strided_slice_1, lstm/TensorArrayUnstack/TensorListFromTensor, lstm/lstm_cell/kernel, lstm/lstm_cell/recurrent_kernel, lstm/lstm_cell/bias, lstm/while/EmptyTensorList, lstm/while/EmptyTensorList_1, lstm/while/EmptyTensorList_2, lstm/while/EmptyTensorList_3, lstm/while/EmptyTensorList_4, lstm/while/EmptyTensorList_5, lstm/while/EmptyTensorList_6, lstm/while/EmptyTensorList_7, lstm/while/EmptyTensorList_8, lstm/while/EmptyTensorList_9, lstm/while/EmptyTensorList_10, lstm/while/EmptyTensorList_11, lstm/while/EmptyTensorList_12, lstm/while/EmptyTensorList_13, lstm/while/EmptyTensorList_14, lstm/while/EmptyTensorList_15, lstm/while/EmptyTensorList_16, lstm/while/EmptyTensorList_17, lstm/while/EmptyTensorList_18, lstm/while/EmptyTensorList_19, lstm/while/EmptyTensorList_20, lstm/while/EmptyTensorList_21, lstm/while/EmptyTensorList_22, lstm/while/EmptyTensorList_23, lstm/while/EmptyTensorList_24, lstm/while/EmptyTensorList_25, lstm/while/EmptyTensorList_26, lstm/while/EmptyTensorList_27, lstm/while/EmptyTensorList_28, lstm/while/EmptyTensorList_29, lstm/while/EmptyTensorList_30, lstm/while/EmptyTensorList_31, lstm/while/EmptyTensorList_32, lstm/while/EmptyTensorList_33, lstm/while/EmptyTensorList_34, lstm/while/EmptyTensorList_35, lstm/while/EmptyTensorList_36, lstm/while/EmptyTensorList_37, lstm/while/EmptyTensorList_38, lstm/while/EmptyTensorList_39, lstm/while/EmptyTensorList_40, lstm/while/EmptyTensorList_41, lstm/while/EmptyTensorList_42, lstm/while/EmptyTensorList_43, lstm/while/EmptyTensorList_44, lstm/while/EmptyTensorList_45, lstm/while/EmptyTensorList_46, lstm/while/EmptyTensorList_47, lstm/while/EmptyTensorList_48, lstm/while/EmptyTensorList_49, lstm/while/EmptyTensorList_50, lstm/while/EmptyTensorList_51, lstm/while/EmptyTensorList_52, lstm/while/EmptyTensorList_53, lstm/while/EmptyTensorList_54, training/Adam/gradients/gradients/lstm/while_grad/gradients/TensorArrayV2Read/TensorListGetItem_grad/TensorListElementShape_0/accumulator:0, training/Adam/gradients/gradients/lstm/while_grad/gradients/TensorArrayV2Read/TensorListGetItem_grad/TensorListLength_0/accumulator:0)}}' was changed by setting attribute after it was run by a session. This mutation will have no effect, and will trigger an error in the future. Either don't modify nodes after running them or create a new session.\n"
     ]
    },
    {
     "name": "stdout",
     "output_type": "stream",
     "text": [
      "(128,)\n"
     ]
    }
   ],
   "source": [
    "pooled_grads_value, conv_layer_output_value = iterate([X_test_temp])\n",
    "print(pooled_grads_value.shape)"
   ]
  },
  {
   "cell_type": "code",
   "execution_count": 33,
   "id": "2559277d",
   "metadata": {},
   "outputs": [
    {
     "name": "stdout",
     "output_type": "stream",
     "text": [
      "(16, 17, 128)\n"
     ]
    }
   ],
   "source": [
    "print(conv_layer_output_value.shape)"
   ]
  },
  {
   "cell_type": "code",
   "execution_count": 34,
   "id": "17c4fe6e",
   "metadata": {},
   "outputs": [],
   "source": [
    "for i in range(128):\n",
    "    conv_layer_output_value[:, :, i] *= pooled_grads_value[i]\n",
    "#print(conv_layer_output_value)"
   ]
  },
  {
   "cell_type": "code",
   "execution_count": 36,
   "id": "b08f4333",
   "metadata": {},
   "outputs": [],
   "source": [
    "import seaborn as sns"
   ]
  },
  {
   "cell_type": "code",
   "execution_count": 40,
   "id": "dc0fe61c",
   "metadata": {
    "scrolled": false
   },
   "outputs": [
    {
     "data": {
      "image/png": "[encoded data removed]",
      "text/plain": [
       "<Figure size 510x480 with 1 Axes>"
      ]
     },
     "metadata": {},
     "output_type": "display_data"
    }
   ],
   "source": [
    "heatmap = np.mean(conv_layer_output_value, axis=-1)\n",
    "heatmap = np.maximum(heatmap, 0)\n",
    "heatmap /= np.max(heatmap)\n",
    "plt.matshow(heatmap, cmap='gray')\n",
    "plt.show()"
   ]
  },
  {
   "cell_type": "code",
   "execution_count": 42,
   "id": "89e6e8e6",
   "metadata": {},
   "outputs": [],
   "source": [
    "import cv2"
   ]
  },
  {
   "cell_type": "code",
   "execution_count": 43,
   "id": "16ea450e",
   "metadata": {},
   "outputs": [
    {
     "name": "stdout",
     "output_type": "stream",
     "text": [
      "(500, 500)\n"
     ]
    },
    {
     "data": {
      "image/png": "[encoded data removed]",
      "text/plain": [
       "<Figure size 640x480 with 1 Axes>"
      ]
     },
     "metadata": {},
     "output_type": "display_data"
    }
   ],
   "source": [
    "heatmap = cv2.resize(heatmap, (500, 500))\n",
    "heatmap = np.uint8(255 * heatmap)\n",
    "plt.imshow(heatmap)\n",
    "print(heatmap.shape)"
   ]
  },
  {
   "cell_type": "code",
   "execution_count": 44,
   "id": "80296c52",
   "metadata": {},
   "outputs": [
    {
     "data": {
      "text/plain": [
       "<matplotlib.image.AxesImage at 0x7ff190034550>"
      ]
     },
     "execution_count": 44,
     "metadata": {},
     "output_type": "execute_result"
    },
    {
     "data": {
      "image/png": "[encoded data removed]",
      "text/plain": [
       "<Figure size 640x480 with 1 Axes>"
      ]
     },
     "metadata": {},
     "output_type": "display_data"
    }
   ],
   "source": [
    "heatmap = cv2.applyColorMap(heatmap, cv2.COLORMAP_JET)\n",
    "plt.imshow(heatmap)"
   ]
  },
  {
   "cell_type": "code",
   "execution_count": null,
   "id": "81f6589d",
   "metadata": {},
   "outputs": [],
   "source": []
  }
 ],
 "metadata": {
  "kernelspec": {
   "display_name": "Python 3 (ipykernel)",
   "language": "python",
   "name": "python3"
  },
  "language_info": {
   "codemirror_mode": {
    "name": "ipython",
    "version": 3
   },
   "file_extension": ".py",
   "mimetype": "text/x-python",
   "name": "python",
   "nbconvert_exporter": "python",
   "pygments_lexer": "ipython3",
   "version": "3.9.13"
  }
 },
 "nbformat": 4,
 "nbformat_minor": 5
}
